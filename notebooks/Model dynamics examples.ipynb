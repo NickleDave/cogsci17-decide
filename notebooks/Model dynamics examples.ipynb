{
 "cells": [
  {
   "cell_type": "code",
   "execution_count": 1,
   "metadata": {
    "collapsed": false
   },
   "outputs": [
    {
     "data": {
      "application/javascript": [
       "\n",
       "    define('nengo', [\"jupyter-js-widgets\"], function(widgets) {\n",
       "        \n",
       "      var NengoProgressBar = widgets.DOMWidgetView.extend({\n",
       "        render: function() {\n",
       "          // Work-around for messed up CSS in IPython 4\n",
       "          $('.widget-subarea').css({flex: '2 1 0%'});\n",
       "          // $el is the DOM of the widget\n",
       "          this.$el.css({width: '100%', marginBottom: '0.5em'});\n",
       "          this.$el.html([\n",
       "            '<div style=\"',\n",
       "                'width: 100%;',\n",
       "                'border: 1px solid #cfcfcf;',\n",
       "                'border-radius: 4px;',\n",
       "                'text-align: center;',\n",
       "                'position: relative;\">',\n",
       "              '<div class=\"pb-text\" style=\"',\n",
       "                  'position: absolute;',\n",
       "                  'width: 100%;\">',\n",
       "                '0%',\n",
       "              '</div>',\n",
       "              '<div class=\"pb-bar\" style=\"',\n",
       "                  'background-color: #bdd2e6;',\n",
       "                  'width: 0%;',\n",
       "                  'transition: width 0.1s linear;\">',\n",
       "                '&nbsp;',\n",
       "              '</div>',\n",
       "            '</div>'].join(''));\n",
       "        },\n",
       "\n",
       "        update: function() {\n",
       "          this.$el.css({width: '100%', marginBottom: '0.5em'});\n",
       "          var progress = 100 * this.model.get('progress');\n",
       "          var text = this.model.get('text');\n",
       "          this.$el.find('div.pb-bar').width(progress.toString() + '%');\n",
       "          this.$el.find('div.pb-text').html(text);\n",
       "        },\n",
       "      });\n",
       "    \n",
       "\n",
       "      return {\n",
       "        NengoProgressBar: NengoProgressBar\n",
       "      };\n",
       "    });"
      ],
      "text/plain": [
       "<IPython.core.display.Javascript object>"
      ]
     },
     "metadata": {},
     "output_type": "display_data"
    }
   ],
   "source": [
    "%matplotlib inline\n",
    "%load_ext nengo.ipynb"
   ]
  },
  {
   "cell_type": "code",
   "execution_count": 2,
   "metadata": {
    "collapsed": true
   },
   "outputs": [],
   "source": [
    "import matplotlib.pyplot as plt\n",
    "import nengo\n",
    "import seaborn as sns\n",
    "\n",
    "from cogsci17_decide.networks import DriftDiffusion, UsherMcClelland"
   ]
  },
  {
   "cell_type": "code",
   "execution_count": 3,
   "metadata": {
    "collapsed": true
   },
   "outputs": [],
   "source": [
    "sns.set('paper', 'ticks')\n",
    "\n",
    "col_w = (7. - .25) / 2."
   ]
  },
  {
   "cell_type": "markdown",
   "metadata": {},
   "source": [
    "# Usher-McClelland"
   ]
  },
  {
   "cell_type": "code",
   "execution_count": 4,
   "metadata": {
    "collapsed": true
   },
   "outputs": [],
   "source": [
    "dt = 0.001\n",
    "\n",
    "with nengo.Network(seed=1) as model:\n",
    "    wta = UsherMcClelland(3, 200, dt=dt)\n",
    "    stimulus = nengo.Node([0.8, 0.7, 0.6])\n",
    "    nengo.Connection(stimulus, wta.input, synapse=None)\n",
    "    \n",
    "    p_stimulus = nengo.Probe(stimulus, synapse=None)\n",
    "    p_output = nengo.Probe(wta.output, synapse=0.01)"
   ]
  },
  {
   "cell_type": "code",
   "execution_count": 5,
   "metadata": {
    "collapsed": false
   },
   "outputs": [
    {
     "name": "stderr",
     "output_type": "stream",
     "text": [
      "Widget Javascript not detected.  It may not be installed properly. Did you enable the widgetsnbextension? If not, then run \"jupyter nbextension enable --py --sys-prefix widgetsnbextension\"\n",
      "Widget Javascript not detected.  It may not be installed properly. Did you enable the widgetsnbextension? If not, then run \"jupyter nbextension enable --py --sys-prefix widgetsnbextension\"\n"
     ]
    }
   ],
   "source": [
    "with nengo.Simulator(model, dt=dt) as sim:\n",
    "    sim.run(1.)"
   ]
  },
  {
   "cell_type": "code",
   "execution_count": 6,
   "metadata": {
    "collapsed": false
   },
   "outputs": [
    {
     "data": {
      "image/png": "[encoded data removed]",
      "text/plain": [
       "<matplotlib.figure.Figure at 0x7f5c8a789e10>"
      ]
     },
     "metadata": {},
     "output_type": "display_data"
    }
   ],
   "source": [
    "fig = plt.figure(figsize=(col_w, col_w / 1.6))\n",
    "plt.plot(sim.trange(), sim.data[p_output])\n",
    "plt.xlabel(\"Time [s]\")\n",
    "plt.ylabel(\"Output\")\n",
    "plt.locator_params(axis='y', nbins=5)\n",
    "sns.despine()\n",
    "plt.tight_layout()"
   ]
  },
  {
   "cell_type": "code",
   "execution_count": 7,
   "metadata": {
    "collapsed": false
   },
   "outputs": [],
   "source": [
    "fig.savefig('../doc/paper/figures/usher-mcclelland.pdf')"
   ]
  },
  {
   "cell_type": "markdown",
   "metadata": {},
   "source": [
    "# Independent accumulator"
   ]
  },
  {
   "cell_type": "code",
   "execution_count": 8,
   "metadata": {
    "collapsed": false
   },
   "outputs": [],
   "source": [
    "dt = 0.001\n",
    "\n",
    "with nengo.Network(seed=1) as model:\n",
    "    wta = DriftDiffusion(3, 200, dt=dt)\n",
    "    stimulus = nengo.Node([0.8, 0.7, 0.6])\n",
    "    nengo.Connection(stimulus, wta.input, synapse=None)\n",
    "    \n",
    "    p_stimulus = nengo.Probe(stimulus, synapse=None)\n",
    "    p_state = nengo.Probe(wta.x.output, synapse=0.01)\n",
    "    p_output = nengo.Probe(wta.output, synapse=0.01)"
   ]
  },
  {
   "cell_type": "code",
   "execution_count": 9,
   "metadata": {
    "collapsed": false
   },
   "outputs": [
    {
     "name": "stderr",
     "output_type": "stream",
     "text": [
      "Widget Javascript not detected.  It may not be installed properly. Did you enable the widgetsnbextension? If not, then run \"jupyter nbextension enable --py --sys-prefix widgetsnbextension\"\n",
      "Widget Javascript not detected.  It may not be installed properly. Did you enable the widgetsnbextension? If not, then run \"jupyter nbextension enable --py --sys-prefix widgetsnbextension\"\n"
     ]
    }
   ],
   "source": [
    "with nengo.Simulator(model, dt=dt) as sim:\n",
    "    sim.run(1.)"
   ]
  },
  {
   "cell_type": "code",
   "execution_count": 10,
   "metadata": {
    "collapsed": false
   },
   "outputs": [
    {
     "data": {
      "image/png": "[encoded data removed]",
      "text/plain": [
       "<matplotlib.figure.Figure at 0x7f5c8a7744a8>"
      ]
     },
     "metadata": {},
     "output_type": "display_data"
    }
   ],
   "source": [
    "fig = plt.figure(figsize=(col_w, 2. * col_w / 1.6))\n",
    "\n",
    "ax = plt.subplot(2, 1, 1)\n",
    "plt.plot(sim.trange(), sim.data[p_state])\n",
    "plt.locator_params(axis='y', nbins=5)\n",
    "plt.ylabel(\"State (layer 1)\")\n",
    "\n",
    "plt.subplot(2, 1, 2, sharex=ax, sharey=ax)\n",
    "plt.plot(sim.trange(), sim.data[p_output])\n",
    "plt.locator_params(axis='y', nbins=5)\n",
    "plt.xlabel(\"Time [s]\")\n",
    "plt.ylabel(\"Output (layer 2)\")\n",
    "sns.despine()\n",
    "\n",
    "\n",
    "plt.tight_layout()"
   ]
  },
  {
   "cell_type": "code",
   "execution_count": 11,
   "metadata": {
    "collapsed": true
   },
   "outputs": [],
   "source": [
    "fig.savefig('../doc/paper/figures/indacc.pdf')"
   ]
  },
  {
   "cell_type": "markdown",
   "metadata": {},
   "source": [
    "# Usher-McClelland with noise"
   ]
  },
  {
   "cell_type": "code",
   "execution_count": 57,
   "metadata": {
    "collapsed": true
   },
   "outputs": [],
   "source": [
    "dt = 0.001\n",
    "\n",
    "with nengo.Network(seed=1) as model:\n",
    "    wta = UsherMcClelland(3, 200, dt=dt)\n",
    "    stimulus = nengo.Node([0.8, 0.7, 0.6])\n",
    "    nengo.Connection(stimulus, wta.input, synapse=None)\n",
    "    \n",
    "    noise = nengo.Node(nengo.processes.WhiteNoise(\n",
    "        nengo.dists.Gaussian(.0, 0.045)), size_out=3)\n",
    "    nengo.Connection(noise, wta.input, synapse=None)\n",
    "    \n",
    "    p_stimulus = nengo.Probe(stimulus, synapse=None)\n",
    "    p_output = nengo.Probe(wta.output, synapse=0.01)"
   ]
  },
  {
   "cell_type": "code",
   "execution_count": 58,
   "metadata": {
    "collapsed": false
   },
   "outputs": [],
   "source": [
    "with nengo.Simulator(model, dt=dt) as sim:\n",
    "    sim.run(1.)"
   ]
  },
  {
   "cell_type": "code",
   "execution_count": 59,
   "metadata": {
    "collapsed": false
   },
   "outputs": [
    {
     "data": {
      "image/png": "[encoded data removed]",
      "text/plain": [
       "<matplotlib.figure.Figure at 0x7f5c8a9c9668>"
      ]
     },
     "metadata": {},
     "output_type": "display_data"
    }
   ],
   "source": [
    "fig = plt.figure(figsize=(col_w, col_w / 1.6))\n",
    "plt.plot(sim.trange(), sim.data[p_output])\n",
    "plt.xlabel(\"Time [s]\")\n",
    "plt.ylabel(\"Output\")\n",
    "plt.locator_params(axis='y', nbins=5)\n",
    "sns.despine()\n",
    "plt.tight_layout()"
   ]
  },
  {
   "cell_type": "markdown",
   "metadata": {},
   "source": [
    "# Independent accumulators with noise"
   ]
  },
  {
   "cell_type": "code",
   "execution_count": 60,
   "metadata": {
    "collapsed": true
   },
   "outputs": [],
   "source": [
    "dt = 0.001\n",
    "\n",
    "with nengo.Network(seed=1) as model:\n",
    "    wta = DriftDiffusion(3, 200, dt=dt)\n",
    "    stimulus = nengo.Node([0.8, 0.7, 0.6])\n",
    "    nengo.Connection(stimulus, wta.input, synapse=None)\n",
    "    \n",
    "    noise = nengo.Node(nengo.processes.WhiteNoise(\n",
    "        nengo.dists.Gaussian(.0, 0.045)), size_out=3)\n",
    "    nengo.Connection(noise, wta.input, synapse=None)\n",
    "    \n",
    "    p_stimulus = nengo.Probe(stimulus, synapse=None)\n",
    "    p_state = nengo.Probe(wta.x.output, synapse=0.01)\n",
    "    p_output = nengo.Probe(wta.output, synapse=0.01)"
   ]
  },
  {
   "cell_type": "code",
   "execution_count": 61,
   "metadata": {
    "collapsed": true
   },
   "outputs": [],
   "source": [
    "with nengo.Simulator(model, dt=dt) as sim:\n",
    "    sim.run(1.)"
   ]
  },
  {
   "cell_type": "code",
   "execution_count": 63,
   "metadata": {
    "collapsed": false
   },
   "outputs": [
    {
     "data": {
      "image/png": "[encoded data removed]",
      "text/plain": [
       "<matplotlib.figure.Figure at 0x7f5c8a7b0470>"
      ]
     },
     "metadata": {},
     "output_type": "display_data"
    }
   ],
   "source": [
    "fig = plt.figure(figsize=(col_w, 2. * col_w / 1.6))\n",
    "\n",
    "ax = plt.subplot(2, 1, 1)\n",
    "plt.plot(sim.trange(), sim.data[p_state])\n",
    "plt.locator_params(axis='y', nbins=5)\n",
    "plt.ylabel(\"State (layer 1)\")\n",
    "\n",
    "plt.subplot(2, 1, 2, sharex=ax, sharey=ax)\n",
    "plt.plot(sim.trange(), sim.data[p_output])\n",
    "plt.locator_params(axis='y', nbins=5)\n",
    "plt.xlabel(\"Time [s]\")\n",
    "plt.ylabel(\"Output (layer 2)\")\n",
    "sns.despine()\n",
    "\n",
    "\n",
    "plt.tight_layout()"
   ]
  },
  {
   "cell_type": "code",
   "execution_count": null,
   "metadata": {
    "collapsed": true
   },
   "outputs": [],
   "source": []
  }
 ],
 "metadata": {
  "kernelspec": {
   "display_name": "Python 3",
   "language": "python",
   "name": "python3"
  },
  "language_info": {
   "codemirror_mode": {
    "name": "ipython",
    "version": 3
   },
   "file_extension": ".py",
   "mimetype": "text/x-python",
   "name": "python",
   "nbconvert_exporter": "python",
   "pygments_lexer": "ipython3",
   "version": "3.5.2"
  },
  "widgets": {
   "state": {
    "0490920fd5b24f6ebea573a9906a26ef": {
     "views": [
      {
       "cell_index": 15
      }
     ]
    },
    "2556cab10dfc4700acc75522f7345846": {
     "views": [
      {
       "cell_index": 15
      }
     ]
    },
    "265f7c144614494889d3acd05fadee69": {
     "views": [
      {
       "cell_index": 5
      }
     ]
    },
    "2994c619bb1840ed85c8236a98d8335c": {
     "views": [
      {
       "cell_index": 5
      }
     ]
    },
    "2b1bc7b8e08642c796eac92b9617b903": {
     "views": [
      {
       "cell_index": 19
      }
     ]
    },
    "31689fa5883e4910a7b716bc04350087": {
     "views": [
      {
       "cell_index": 4
      }
     ]
    },
    "467a09be6af14b3a87bebbf3bcfe5548": {
     "views": [
      {
       "cell_index": 5
      }
     ]
    },
    "4809bcb0ed7e4916a111f0334bec8896": {
     "views": [
      {
       "cell_index": 15
      }
     ]
    },
    "4f00ab124c6d413c90eb0fcf14312fdb": {
     "views": [
      {
       "cell_index": 15
      }
     ]
    },
    "5865103897f24e1c8763b4643749cf90": {
     "views": [
      {
       "cell_index": 10
      }
     ]
    },
    "59b12df1156a4c2880643e2ccb87f4fc": {
     "views": [
      {
       "cell_index": 15
      }
     ]
    },
    "6e4e61f798a64c7b86983ece2950e839": {
     "views": [
      {
       "cell_index": 5
      }
     ]
    },
    "6e63f5fc35f0451481cd40da0e987584": {
     "views": [
      {
       "cell_index": 15
      }
     ]
    },
    "7951e679ea73496f9c5c680ddf400e72": {
     "views": [
      {
       "cell_index": 15
      }
     ]
    },
    "82824dfcff8b406ba64b6100fcbbb7f3": {
     "views": [
      {
       "cell_index": 5
      }
     ]
    },
    "854f5e77da6d4c28a239aae4fd35b87d": {
     "views": [
      {
       "cell_index": 15
      }
     ]
    },
    "8f61b45663004cd1a7f3ba3e7b34eb32": {
     "views": [
      {
       "cell_index": 19
      }
     ]
    },
    "91975edd7e2d4ceaa3fab42f517ef801": {
     "views": [
      {
       "cell_index": 15
      }
     ]
    },
    "929be1e5a7894af08c689d595d07f1cd": {
     "views": [
      {
       "cell_index": 15
      }
     ]
    },
    "97028025d059486e8bd3d19144ec4cba": {
     "views": [
      {
       "cell_index": 15
      }
     ]
    },
    "9a155d3cae9e40d6a372046d7eef41f3": {
     "views": [
      {
       "cell_index": 15
      }
     ]
    },
    "9e8fe08b024141269c74b9042d841f51": {
     "views": [
      {
       "cell_index": 15
      }
     ]
    },
    "a81241a7a94942df854cb923049e5166": {
     "views": [
      {
       "cell_index": 5
      }
     ]
    },
    "a91dbab857da4f0387ed54f0de4237a2": {
     "views": [
      {
       "cell_index": 10
      }
     ]
    },
    "ba7bb5773fd34db6b6f453a01bd4e83d": {
     "views": [
      {
       "cell_index": 15
      }
     ]
    },
    "c30278daba7b48aea6888f11c88ee886": {
     "views": [
      {
       "cell_index": 15
      }
     ]
    },
    "c3d10a6d34e54e108becc0a12330e5c2": {
     "views": [
      {
       "cell_index": 10
      }
     ]
    },
    "cae14b4e0fed4ae783df484492f0cab0": {
     "views": [
      {
       "cell_index": 10
      }
     ]
    },
    "ce8394d4e56847bf8a316ad4d855d236": {
     "views": [
      {
       "cell_index": 4
      }
     ]
    },
    "da9a04290eea49a88f2fdebdaeb808b3": {
     "views": [
      {
       "cell_index": 10
      }
     ]
    },
    "e7293babb14a49b0be42ac354fb01a34": {
     "views": [
      {
       "cell_index": 10
      }
     ]
    },
    "ef87d8c09c2d4340b4cba3396c3b7738": {
     "views": [
      {
       "cell_index": 3
      }
     ]
    },
    "f417937c30564ce8838e2f33e683905f": {
     "views": [
      {
       "cell_index": 15
      }
     ]
    },
    "f59c134eaf5644f3812044fabbd4dc7e": {
     "views": [
      {
       "cell_index": 15
      }
     ]
    }
   },
   "version": "1.2.0"
  }
 },
 "nbformat": 4,
 "nbformat_minor": 2
}
